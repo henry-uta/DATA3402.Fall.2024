{
 "cells": [
  {
   "cell_type": "markdown",
   "metadata": {},
   "source": [
    "## Lab 2- Tic Tac Toe\n",
    "\n",
    "In this lab your will build a n x n Tic Tac Toe game. As you do the exercises, make sure your solutions work for any size Tic Tac Toe game. "
   ]
  },
  {
   "cell_type": "markdown",
   "metadata": {},
   "source": [
    "*Exercise 1:* Write a function that creates an n by n matrix (of list of lists) which will represent the state of a Tie Tac Toe game. Let 0, 1, and 2 represent empty, \"X\", and \"O\", respectively.\n"
   ]
  },
  {
   "cell_type": "code",
   "execution_count": 1,
   "metadata": {},
   "outputs": [],
   "source": [
    "# Write you solution here\n",
    "\n",
    "def n_n_matrix(n):\n",
    "    return [[0 for _ in range(n)] for _ in range(n)]\n"
   ]
  },
  {
   "cell_type": "code",
   "execution_count": 6,
   "metadata": {},
   "outputs": [
    {
     "name": "stdout",
     "output_type": "stream",
     "text": [
      "[[0, 0, 0], [0, 0, 0], [0, 0, 0]]\n"
     ]
    }
   ],
   "source": [
    "# Test your solution here\n",
    "\n",
    "print(n_n_matrix(3))"
   ]
  },
  {
   "cell_type": "markdown",
   "metadata": {},
   "source": [
    "*Exercise 2:* Write a function that takes 2 integers `n` and `m` as input and draws a `n` by `m` game board. For example the following is a 3x3 board:\n",
    "```\n",
    "   --- --- --- \n",
    "  |   |   |   | \n",
    "   --- --- ---  \n",
    "  |   |   |   | \n",
    "   --- --- ---  \n",
    "  |   |   |   | \n",
    "   --- --- --- \n",
    "   ```"
   ]
  },
  {
   "cell_type": "code",
   "execution_count": 2,
   "metadata": {},
   "outputs": [],
   "source": [
    "# Write you solution here\n",
    "\n",
    "def n_m_matrix(n,m):\n",
    "    dash_row = \" ---\" * m\n",
    "    bar_row = \"|   \" * (m + 1)\n",
    "    for i in range(n):\n",
    "        print(dash_row)\n",
    "        print(bar_row)\n",
    "    print(dash_row)   \n",
    "        \n",
    "    "
   ]
  },
  {
   "cell_type": "code",
   "execution_count": 8,
   "metadata": {},
   "outputs": [
    {
     "name": "stdout",
     "output_type": "stream",
     "text": [
      " --- --- ---\n",
      "|   |   |   |   \n",
      " --- --- ---\n",
      "|   |   |   |   \n",
      " --- --- ---\n",
      "|   |   |   |   \n",
      " --- --- ---\n"
     ]
    }
   ],
   "source": [
    "# Test your solution here\n",
    "\n",
    "n_m_matrix(3,3)\n"
   ]
  },
  {
   "cell_type": "markdown",
   "metadata": {},
   "source": [
    "*Exercise 3:* Modify exercise 2, so that it takes a matrix of the form from exercise 1 and draws a tic-tac-tie board with \"X\"s and \"O\"s.  "
   ]
  },
  {
   "cell_type": "code",
   "execution_count": 3,
   "metadata": {},
   "outputs": [],
   "source": [
    "# Write you solution here\n",
    "\n",
    "def ttt_board(ttt_board):\n",
    "    dash_row = \" ---\" * 3\n",
    "    n = len(ttt_board)\n",
    "    m = len(ttt_board[0])\n",
    "    \n",
    "    for i in range(n):\n",
    "        print(dash_row) \n",
    "        for j in range(m):\n",
    "            if ttt_board[i][j] == 1:     \n",
    "                print(\"| X \", end=\"\")\n",
    "            elif ttt_board[i][j] == 2:\n",
    "                print(\"| O \", end=\"\")\n",
    "            elif ttt_board[i][j] == 0:\n",
    "                print(\"|   \", end=\"\")\n",
    "        print(\"|\") \n",
    "    print(dash_row)\n",
    "\n"
   ]
  },
  {
   "cell_type": "code",
   "execution_count": 10,
   "metadata": {},
   "outputs": [
    {
     "name": "stdout",
     "output_type": "stream",
     "text": [
      " --- --- ---\n",
      "| O | O |   |\n",
      " --- --- ---\n",
      "| O | X |   |\n",
      " --- --- ---\n",
      "| O | X | X |\n",
      " --- --- ---\n"
     ]
    }
   ],
   "source": [
    "# Test your solution here\n",
    "winner_is_2_test = [[2, 2, 0],\n",
    "\t[2, 1, 0],\n",
    "\t[2, 1, 1]]\n",
    "\n",
    "ttt_board(winner_is_2_test)\n"
   ]
  },
  {
   "cell_type": "markdown",
   "metadata": {},
   "source": [
    "*Exercise 4:* Write a function that takes a `n` by `n` matrix representing a tic-tac-toe game, and returns -1, 0, 1, or 2 indicating the game is incomplete, the game is a draw, player 1 has won, or player 2 has one, respectively. Here are some example inputs you can use to test your code:"
   ]
  },
  {
   "cell_type": "code",
   "execution_count": 4,
   "metadata": {},
   "outputs": [],
   "source": [
    "# Write you solution here\n",
    "\n",
    "import pandas as pd\n",
    "import numpy as np\n",
    "\n",
    "#ttt = tic tac toe\n",
    "def check_win_conditions(ttt_board):\n",
    "    n = len(ttt_board)\n",
    "    for i in ttt_board:\n",
    "        initial_ttt = i[0]\n",
    "        if initial_ttt == 0:\n",
    "            continue\n",
    "        if all(j == initial_ttt for j in i):\n",
    "            return initial_ttt\n",
    "    for i in range(n):\n",
    "        initial_ttt = ttt_board[0][i]\n",
    "        if initial_ttt == 0:\n",
    "            continue\n",
    "        if all(ttt_board[j][i] == initial_ttt for j in range(n)):\n",
    "            return initial_ttt\n",
    "    initial_ttt = ttt_board[0][0]\n",
    "    if initial_ttt != 0 and all(ttt_board[i][i] == initial_ttt for i in range(n)):\n",
    "        return initial_ttt\n",
    "    initial_ttt = ttt_board[n-1][0]\n",
    "    if initial_ttt != 0 and all(ttt_board[n - 1 - i][i] == initial_ttt for i in range(n)):\n",
    "        return initial_ttt\n",
    "    if any(0 in row for row in ttt_board):\n",
    "        return -1 \n",
    "    return 0\n"
   ]
  },
  {
   "cell_type": "code",
   "execution_count": 41,
   "metadata": {},
   "outputs": [],
   "source": [
    "winner_is_2 = [[2, 2, 0],\n",
    "\t[2, 1, 0],\n",
    "\t[2, 1, 1]]\n",
    "\n",
    "winner_is_1 = [[1, 2, 0],\n",
    "\t[2, 1, 0],\n",
    "\t[2, 1, 1]]\n",
    "\n",
    "winner_is_also_1 = [[0, 1, 0],\n",
    "\t[2, 1, 0],\n",
    "\t[2, 1, 1]]\n",
    "\n",
    "no_winner = [[1, 2, 0],\n",
    "\t[2, 1, 0],\n",
    "\t[2, 1, 2]]\n",
    "\n",
    "also_no_winner = [[1, 2, 0],\n",
    "\t[2, 1, 0],\n",
    "\t[2, 1, 0]]"
   ]
  },
  {
   "cell_type": "code",
   "execution_count": 42,
   "metadata": {},
   "outputs": [
    {
     "name": "stdout",
     "output_type": "stream",
     "text": [
      "2\n",
      "1\n",
      "1\n",
      "-1\n",
      "-1\n"
     ]
    }
   ],
   "source": [
    "# Test your solution here\n",
    "\n",
    "print(check_win_conditions(winner_is_2))\n",
    "print(check_win_conditions(winner_is_1))\n",
    "print(check_win_conditions(winner_is_also_1))\n",
    "print(check_win_conditions(no_winner))\n",
    "print(check_win_conditions(also_no_winner))\n"
   ]
  },
  {
   "cell_type": "markdown",
   "metadata": {},
   "source": [
    "*Exercise 5:* Write a function that takes a game board, player number, and `(x,y)` coordinates and places \"X\" or \"O\" in the correct location of the game board. Make sure that you only allow filling previously empty locations. Return `True` or `False` to indicate successful placement of \"X\" or \"O\"."
   ]
  },
  {
   "cell_type": "code",
   "execution_count": 5,
   "metadata": {},
   "outputs": [],
   "source": [
    "# Write you solution here\n",
    "\n",
    "def placement_ttt(ttt_board, player_number, coordinates):\n",
    "    n = len(ttt_board)\n",
    "    m = len(ttt_board[0])\n",
    "    x, y = coordinates\n",
    "\n",
    "    if x < 0 or x >= n or y < 0 or y >= m:\n",
    "        return False\n",
    "\n",
    "    if ttt_board[x][y] == 0:\n",
    "        ttt_board[x][y] = player_number\n",
    "        return True\n",
    "    else:\n",
    "        print(\"Invalid Move\")\n",
    "        return False\n"
   ]
  },
  {
   "cell_type": "code",
   "execution_count": 22,
   "metadata": {},
   "outputs": [
    {
     "name": "stdout",
     "output_type": "stream",
     "text": [
      "[[2, 2, 2], [2, 1, 1], [2, 1, 1]]\n",
      " --- --- ---\n",
      "| O | O | O |\n",
      " --- --- ---\n",
      "| O | X | X |\n",
      " --- --- ---\n",
      "| O | X | X |\n",
      " --- --- ---\n"
     ]
    }
   ],
   "source": [
    "# Test your solution here\n",
    "\n",
    "placement_ttt(winner_is_2_test, 1, (1,2))\n",
    "print(winner_is_2_test)\n",
    "ttt_board(winner_is_2_test)"
   ]
  },
  {
   "cell_type": "markdown",
   "metadata": {},
   "source": [
    "*Exercise 6:* Modify Exercise 4 to show column and row labels so that players can specify location using \"A2\" or \"C1\"."
   ]
  },
  {
   "cell_type": "code",
   "execution_count": 6,
   "metadata": {},
   "outputs": [],
   "source": [
    "# Write you solution here\n",
    "\n",
    "def ttt_board_new(ttt_board):\n",
    "    n = len(ttt_board)\n",
    "    dash_row = \" ---\" * n\n",
    "    row_labels = [chr(65 + i) for i in range(n)]\n",
    "    col_labels = '  ' + '   '.join([str(i+1) for i in range(n)])\n",
    "\n",
    "    print(col_labels)\n",
    "    \n",
    "    for i in range(n):\n",
    "        print(dash_row)\n",
    "        print(f\"{row_labels[i]}\", end=\"\")\n",
    "        for j in range(n):\n",
    "            if ttt_board[i][j] == 1:\n",
    "                print(\"| X \", end=\"\")\n",
    "            elif ttt_board[i][j] == 2:\n",
    "                print(\"| O \", end=\"\")\n",
    "            else:\n",
    "                print(\"|   \", end=\"\")\n",
    "        print(\"|\") \n",
    "    print(dash_row)\n",
    "\n"
   ]
  },
  {
   "cell_type": "code",
   "execution_count": 44,
   "metadata": {},
   "outputs": [
    {
     "name": "stdout",
     "output_type": "stream",
     "text": [
      "  1   2   3\n",
      " --- --- ---\n",
      "A| O | O | O |\n",
      " --- --- ---\n",
      "B| O | X | X |\n",
      " --- --- ---\n",
      "C| O | X | X |\n",
      " --- --- ---\n"
     ]
    }
   ],
   "source": [
    "# Test your solution here\n",
    "\n",
    "ttt_board_new(winner_is_2_test)"
   ]
  },
  {
   "cell_type": "markdown",
   "metadata": {},
   "source": [
    "*Exercise 7:* Write a function that takes a board, player number, and location specified as in exercise 6 and then calls exercise 5 to correctly modify the board.  "
   ]
  },
  {
   "cell_type": "code",
   "execution_count": 7,
   "metadata": {},
   "outputs": [],
   "source": [
    "# Write you solution here\n",
    "\n",
    "def get_board_indices(position, n):\n",
    "    row_dict = {chr(65 + i): i for i in range(n)}\n",
    "    col_dict = {str(i+1): i for i in range(n)}\n",
    "    try:\n",
    "        row = row_dict[position[0].upper()]\n",
    "        col = col_dict[position[1]]\n",
    "    except (KeyError, IndexError):\n",
    "        raise ValueError(\"Invalid position. Please use format like 'A1', 'B2', etc.\")\n",
    "    return row, col\n",
    "\n",
    "def modify_board(ttt_board, player_number, position):\n",
    "    row, col = get_board_indices(position, len(ttt_board))\n",
    "    return placement_ttt(ttt_board, player_number, (row,col))\n"
   ]
  },
  {
   "cell_type": "code",
   "execution_count": 48,
   "metadata": {},
   "outputs": [
    {
     "name": "stdout",
     "output_type": "stream",
     "text": [
      "  1   2   3\n",
      " --- --- ---\n",
      "A|   |   |   |\n",
      " --- --- ---\n",
      "B|   |   |   |\n",
      " --- --- ---\n",
      "C|   |   |   |\n",
      " --- --- ---\n",
      "  1   2   3\n",
      " --- --- ---\n",
      "A| X |   |   |\n",
      " --- --- ---\n",
      "B|   |   |   |\n",
      " --- --- ---\n",
      "C|   |   |   |\n",
      " --- --- ---\n"
     ]
    }
   ],
   "source": [
    "# Test your solution here\n",
    "\n",
    "new_board_7 = n_n_matrix(3)\n",
    "ttt_board_new(new_board_7)\n",
    "modify_board(new_board_7, 1, \"A1\")\n",
    "ttt_board_new(new_board_7)\n"
   ]
  },
  {
   "cell_type": "markdown",
   "metadata": {},
   "source": [
    "*Exercise 8:* Write a function is called with a board and player number, takes input from the player using python's `input`, and modifies the board using your function from exercise 7. Note that you should keep asking for input until you have gotten a valid input that results in a valid move."
   ]
  },
  {
   "cell_type": "code",
   "execution_count": 8,
   "metadata": {},
   "outputs": [],
   "source": [
    "# Write you solution here\n",
    "\n",
    "def get_player_move(ttt_board, player_number):\n",
    "    while True:\n",
    "        try:\n",
    "            position = input(f\"Player {player_number}, enter your move (e.g., A1, B2): \")\n",
    "            \n",
    "            if modify_board(ttt_board, player_number, position):\n",
    "                return ttt_board  \n",
    "            \n",
    "            print(\"Please try a valid move.\")\n",
    "            \n",
    "        except ValueError as ve:\n",
    "            print(f\"Invalid input: {ve}. Try again.\")\n",
    "        except IndexError:\n",
    "            print(\"That move is out of bounds. Try again.\")\n"
   ]
  },
  {
   "cell_type": "code",
   "execution_count": 50,
   "metadata": {},
   "outputs": [
    {
     "name": "stdout",
     "output_type": "stream",
     "text": [
      "  1   2   3\n",
      " --- --- ---\n",
      "A|   |   |   |\n",
      " --- --- ---\n",
      "B|   |   |   |\n",
      " --- --- ---\n",
      "C|   |   |   |\n",
      " --- --- ---\n"
     ]
    },
    {
     "name": "stdin",
     "output_type": "stream",
     "text": [
      "Player 1, enter your move (e.g., A1, B2):  B2\n"
     ]
    },
    {
     "name": "stdout",
     "output_type": "stream",
     "text": [
      "  1   2   3\n",
      " --- --- ---\n",
      "A|   |   |   |\n",
      " --- --- ---\n",
      "B|   | X |   |\n",
      " --- --- ---\n",
      "C|   |   |   |\n",
      " --- --- ---\n"
     ]
    }
   ],
   "source": [
    "# Test your solution here\n",
    "new_board_8 = n_n_matrix(3)\n",
    "ttt_board_new(new_board_8)\n",
    "new_board_8 = get_player_move(new_board_8, 1)\n",
    "ttt_board_new(new_board_8)\n"
   ]
  },
  {
   "cell_type": "markdown",
   "metadata": {},
   "source": [
    "*Exercise 9:* Use all of the previous exercises to implement a full tic-tac-toe game, where an appropriate board is drawn, 2 players are repeatedly asked for a location coordinates of where they wish to place a mark, and the game status is checked until a player wins or a draw occurs."
   ]
  },
  {
   "cell_type": "code",
   "execution_count": 9,
   "metadata": {},
   "outputs": [],
   "source": [
    "# Write you solution here\n",
    "\n",
    "def tic_tac_toe(n):\n",
    "    board = n_n_matrix(n)\n",
    "    current_player = 1\n",
    "    \n",
    "    while True:\n",
    "        ttt_board_new(board)\n",
    "    \n",
    "        board = get_player_move(board, current_player)\n",
    "        \n",
    "        result = check_win_conditions(board)\n",
    "        if result == 1:\n",
    "            ttt_board_new(board)\n",
    "            print(\"Player 1 wins!\")\n",
    "            break\n",
    "        elif result == 2:\n",
    "            ttt_board_new(board)\n",
    "            print(\"Player 2 wins!\")\n",
    "            break\n",
    "        elif result == 0:\n",
    "            ttt_board_new(board)\n",
    "            print(\"It's a draw!\")\n",
    "            break\n",
    "        \n",
    "        current_player = 2 if current_player == 1 else 1\n"
   ]
  },
  {
   "cell_type": "code",
   "execution_count": 53,
   "metadata": {},
   "outputs": [
    {
     "name": "stdout",
     "output_type": "stream",
     "text": [
      "  1   2   3\n",
      " --- --- ---\n",
      "A|   |   |   |\n",
      " --- --- ---\n",
      "B|   |   |   |\n",
      " --- --- ---\n",
      "C|   |   |   |\n",
      " --- --- ---\n"
     ]
    },
    {
     "name": "stdin",
     "output_type": "stream",
     "text": [
      "Player 1, enter your move (e.g., A1, B2):  B2\n"
     ]
    },
    {
     "name": "stdout",
     "output_type": "stream",
     "text": [
      "  1   2   3\n",
      " --- --- ---\n",
      "A|   |   |   |\n",
      " --- --- ---\n",
      "B|   | X |   |\n",
      " --- --- ---\n",
      "C|   |   |   |\n",
      " --- --- ---\n"
     ]
    },
    {
     "name": "stdin",
     "output_type": "stream",
     "text": [
      "Player 2, enter your move (e.g., A1, B2):  A1\n"
     ]
    },
    {
     "name": "stdout",
     "output_type": "stream",
     "text": [
      "  1   2   3\n",
      " --- --- ---\n",
      "A| O |   |   |\n",
      " --- --- ---\n",
      "B|   | X |   |\n",
      " --- --- ---\n",
      "C|   |   |   |\n",
      " --- --- ---\n"
     ]
    },
    {
     "name": "stdin",
     "output_type": "stream",
     "text": [
      "Player 1, enter your move (e.g., A1, B2):  B1\n"
     ]
    },
    {
     "name": "stdout",
     "output_type": "stream",
     "text": [
      "  1   2   3\n",
      " --- --- ---\n",
      "A| O |   |   |\n",
      " --- --- ---\n",
      "B| X | X |   |\n",
      " --- --- ---\n",
      "C|   |   |   |\n",
      " --- --- ---\n"
     ]
    },
    {
     "name": "stdin",
     "output_type": "stream",
     "text": [
      "Player 2, enter your move (e.g., A1, B2):  C2\n"
     ]
    },
    {
     "name": "stdout",
     "output_type": "stream",
     "text": [
      "  1   2   3\n",
      " --- --- ---\n",
      "A| O |   |   |\n",
      " --- --- ---\n",
      "B| X | X |   |\n",
      " --- --- ---\n",
      "C|   | O |   |\n",
      " --- --- ---\n"
     ]
    },
    {
     "name": "stdin",
     "output_type": "stream",
     "text": [
      "Player 1, enter your move (e.g., A1, B2):  C2\n"
     ]
    },
    {
     "name": "stdout",
     "output_type": "stream",
     "text": [
      "Invalid Move\n",
      "Please try a valid move.\n"
     ]
    },
    {
     "name": "stdin",
     "output_type": "stream",
     "text": [
      "Player 1, enter your move (e.g., A1, B2):  Z4\n"
     ]
    },
    {
     "name": "stdout",
     "output_type": "stream",
     "text": [
      "Invalid input: Invalid position. Please use format like 'A1', 'B2', etc.. Try again.\n"
     ]
    },
    {
     "name": "stdin",
     "output_type": "stream",
     "text": [
      "Player 1, enter your move (e.g., A1, B2):  B3\n"
     ]
    },
    {
     "name": "stdout",
     "output_type": "stream",
     "text": [
      "  1   2   3\n",
      " --- --- ---\n",
      "A| O |   |   |\n",
      " --- --- ---\n",
      "B| X | X | X |\n",
      " --- --- ---\n",
      "C|   | O |   |\n",
      " --- --- ---\n",
      "Player 1 wins!\n"
     ]
    }
   ],
   "source": [
    "# Test your solution here\n",
    "tic_tac_toe(3)"
   ]
  },
  {
   "cell_type": "markdown",
   "metadata": {},
   "source": [
    "*Exercise 10:* Test that your game works for 5x5 Tic Tac Toe.  "
   ]
  },
  {
   "cell_type": "code",
   "execution_count": 54,
   "metadata": {},
   "outputs": [
    {
     "name": "stdout",
     "output_type": "stream",
     "text": [
      "  1   2   3   4   5\n",
      " --- --- --- --- ---\n",
      "A|   |   |   |   |   |\n",
      " --- --- --- --- ---\n",
      "B|   |   |   |   |   |\n",
      " --- --- --- --- ---\n",
      "C|   |   |   |   |   |\n",
      " --- --- --- --- ---\n",
      "D|   |   |   |   |   |\n",
      " --- --- --- --- ---\n",
      "E|   |   |   |   |   |\n",
      " --- --- --- --- ---\n"
     ]
    },
    {
     "name": "stdin",
     "output_type": "stream",
     "text": [
      "Player 1, enter your move (e.g., A1, B2):  B1\n"
     ]
    },
    {
     "name": "stdout",
     "output_type": "stream",
     "text": [
      "  1   2   3   4   5\n",
      " --- --- --- --- ---\n",
      "A|   |   |   |   |   |\n",
      " --- --- --- --- ---\n",
      "B| X |   |   |   |   |\n",
      " --- --- --- --- ---\n",
      "C|   |   |   |   |   |\n",
      " --- --- --- --- ---\n",
      "D|   |   |   |   |   |\n",
      " --- --- --- --- ---\n",
      "E|   |   |   |   |   |\n",
      " --- --- --- --- ---\n"
     ]
    },
    {
     "name": "stdin",
     "output_type": "stream",
     "text": [
      "Player 2, enter your move (e.g., A1, B2):  C3\n"
     ]
    },
    {
     "name": "stdout",
     "output_type": "stream",
     "text": [
      "  1   2   3   4   5\n",
      " --- --- --- --- ---\n",
      "A|   |   |   |   |   |\n",
      " --- --- --- --- ---\n",
      "B| X |   |   |   |   |\n",
      " --- --- --- --- ---\n",
      "C|   |   | O |   |   |\n",
      " --- --- --- --- ---\n",
      "D|   |   |   |   |   |\n",
      " --- --- --- --- ---\n",
      "E|   |   |   |   |   |\n",
      " --- --- --- --- ---\n"
     ]
    },
    {
     "name": "stdin",
     "output_type": "stream",
     "text": [
      "Player 1, enter your move (e.g., A1, B2):  C3\n"
     ]
    },
    {
     "name": "stdout",
     "output_type": "stream",
     "text": [
      "Invalid Move\n",
      "Please try a valid move.\n"
     ]
    },
    {
     "name": "stdin",
     "output_type": "stream",
     "text": [
      "Player 1, enter your move (e.g., A1, B2):  G3\n"
     ]
    },
    {
     "name": "stdout",
     "output_type": "stream",
     "text": [
      "Invalid input: Invalid position. Please use format like 'A1', 'B2', etc.. Try again.\n"
     ]
    },
    {
     "name": "stdin",
     "output_type": "stream",
     "text": [
      "Player 1, enter your move (e.g., A1, B2):  D2\n"
     ]
    },
    {
     "name": "stdout",
     "output_type": "stream",
     "text": [
      "  1   2   3   4   5\n",
      " --- --- --- --- ---\n",
      "A|   |   |   |   |   |\n",
      " --- --- --- --- ---\n",
      "B| X |   |   |   |   |\n",
      " --- --- --- --- ---\n",
      "C|   |   | O |   |   |\n",
      " --- --- --- --- ---\n",
      "D|   | X |   |   |   |\n",
      " --- --- --- --- ---\n",
      "E|   |   |   |   |   |\n",
      " --- --- --- --- ---\n"
     ]
    },
    {
     "name": "stdin",
     "output_type": "stream",
     "text": [
      "Player 2, enter your move (e.g., A1, B2):  A1\n"
     ]
    },
    {
     "name": "stdout",
     "output_type": "stream",
     "text": [
      "  1   2   3   4   5\n",
      " --- --- --- --- ---\n",
      "A| O |   |   |   |   |\n",
      " --- --- --- --- ---\n",
      "B| X |   |   |   |   |\n",
      " --- --- --- --- ---\n",
      "C|   |   | O |   |   |\n",
      " --- --- --- --- ---\n",
      "D|   | X |   |   |   |\n",
      " --- --- --- --- ---\n",
      "E|   |   |   |   |   |\n",
      " --- --- --- --- ---\n"
     ]
    },
    {
     "name": "stdin",
     "output_type": "stream",
     "text": [
      "Player 1, enter your move (e.g., A1, B2):  A5\n"
     ]
    },
    {
     "name": "stdout",
     "output_type": "stream",
     "text": [
      "  1   2   3   4   5\n",
      " --- --- --- --- ---\n",
      "A| O |   |   |   | X |\n",
      " --- --- --- --- ---\n",
      "B| X |   |   |   |   |\n",
      " --- --- --- --- ---\n",
      "C|   |   | O |   |   |\n",
      " --- --- --- --- ---\n",
      "D|   | X |   |   |   |\n",
      " --- --- --- --- ---\n",
      "E|   |   |   |   |   |\n",
      " --- --- --- --- ---\n"
     ]
    },
    {
     "name": "stdin",
     "output_type": "stream",
     "text": [
      "Player 2, enter your move (e.g., A1, B2):  B2\n"
     ]
    },
    {
     "name": "stdout",
     "output_type": "stream",
     "text": [
      "  1   2   3   4   5\n",
      " --- --- --- --- ---\n",
      "A| O |   |   |   | X |\n",
      " --- --- --- --- ---\n",
      "B| X | O |   |   |   |\n",
      " --- --- --- --- ---\n",
      "C|   |   | O |   |   |\n",
      " --- --- --- --- ---\n",
      "D|   | X |   |   |   |\n",
      " --- --- --- --- ---\n",
      "E|   |   |   |   |   |\n",
      " --- --- --- --- ---\n"
     ]
    },
    {
     "name": "stdin",
     "output_type": "stream",
     "text": [
      "Player 1, enter your move (e.g., A1, B2):  C1\n"
     ]
    },
    {
     "name": "stdout",
     "output_type": "stream",
     "text": [
      "  1   2   3   4   5\n",
      " --- --- --- --- ---\n",
      "A| O |   |   |   | X |\n",
      " --- --- --- --- ---\n",
      "B| X | O |   |   |   |\n",
      " --- --- --- --- ---\n",
      "C| X |   | O |   |   |\n",
      " --- --- --- --- ---\n",
      "D|   | X |   |   |   |\n",
      " --- --- --- --- ---\n",
      "E|   |   |   |   |   |\n",
      " --- --- --- --- ---\n"
     ]
    },
    {
     "name": "stdin",
     "output_type": "stream",
     "text": [
      "Player 2, enter your move (e.g., A1, B2):  D4\n"
     ]
    },
    {
     "name": "stdout",
     "output_type": "stream",
     "text": [
      "  1   2   3   4   5\n",
      " --- --- --- --- ---\n",
      "A| O |   |   |   | X |\n",
      " --- --- --- --- ---\n",
      "B| X | O |   |   |   |\n",
      " --- --- --- --- ---\n",
      "C| X |   | O |   |   |\n",
      " --- --- --- --- ---\n",
      "D|   | X |   | O |   |\n",
      " --- --- --- --- ---\n",
      "E|   |   |   |   |   |\n",
      " --- --- --- --- ---\n"
     ]
    },
    {
     "name": "stdin",
     "output_type": "stream",
     "text": [
      "Player 1, enter your move (e.g., A1, B2):  E3\n"
     ]
    },
    {
     "name": "stdout",
     "output_type": "stream",
     "text": [
      "  1   2   3   4   5\n",
      " --- --- --- --- ---\n",
      "A| O |   |   |   | X |\n",
      " --- --- --- --- ---\n",
      "B| X | O |   |   |   |\n",
      " --- --- --- --- ---\n",
      "C| X |   | O |   |   |\n",
      " --- --- --- --- ---\n",
      "D|   | X |   | O |   |\n",
      " --- --- --- --- ---\n",
      "E|   |   | X |   |   |\n",
      " --- --- --- --- ---\n"
     ]
    },
    {
     "name": "stdin",
     "output_type": "stream",
     "text": [
      "Player 2, enter your move (e.g., A1, B2):  E5\n"
     ]
    },
    {
     "name": "stdout",
     "output_type": "stream",
     "text": [
      "  1   2   3   4   5\n",
      " --- --- --- --- ---\n",
      "A| O |   |   |   | X |\n",
      " --- --- --- --- ---\n",
      "B| X | O |   |   |   |\n",
      " --- --- --- --- ---\n",
      "C| X |   | O |   |   |\n",
      " --- --- --- --- ---\n",
      "D|   | X |   | O |   |\n",
      " --- --- --- --- ---\n",
      "E|   |   | X |   | O |\n",
      " --- --- --- --- ---\n",
      "Player 2 wins!\n"
     ]
    }
   ],
   "source": [
    "# Test your solution here\n",
    "tic_tac_toe(5)\n"
   ]
  },
  {
   "cell_type": "markdown",
   "metadata": {},
   "source": [
    "*Exercise 11:* (Advanced / Challenge) Develop a version of the game where one player is the computer. Note that you don't need to do an extensive seach for the best move. You can have the computer simply protect against loosing and otherwise try to win with straight or diagonal patterns."
   ]
  },
  {
   "cell_type": "code",
   "execution_count": 13,
   "metadata": {},
   "outputs": [],
   "source": [
    "\n",
    "import copy\n",
    "\n"
   ]
  },
  {
   "cell_type": "code",
   "execution_count": 14,
   "metadata": {},
   "outputs": [
    {
     "name": "stderr",
     "output_type": "stream",
     "text": [
      "IOPub data rate exceeded.\n",
      "The Jupyter server will temporarily stop sending output\n",
      "to the client in order to avoid crashing it.\n",
      "To change this limit, set the config variable\n",
      "`--ServerApp.iopub_data_rate_limit`.\n",
      "\n",
      "Current values:\n",
      "ServerApp.iopub_data_rate_limit=1000000.0 (bytes/sec)\n",
      "ServerApp.rate_limit_window=3.0 (secs)\n",
      "\n"
     ]
    }
   ],
   "source": [
    "# Test your solution here\n",
    "\n"
   ]
  },
  {
   "cell_type": "code",
   "execution_count": null,
   "metadata": {},
   "outputs": [],
   "source": []
  }
 ],
 "metadata": {
  "kernelspec": {
   "display_name": "Python 3 (ipykernel)",
   "language": "python",
   "name": "python3"
  },
  "language_info": {
   "codemirror_mode": {
    "name": "ipython",
    "version": 3
   },
   "file_extension": ".py",
   "mimetype": "text/x-python",
   "name": "python",
   "nbconvert_exporter": "python",
   "pygments_lexer": "ipython3",
   "version": "3.11.9"
  }
 },
 "nbformat": 4,
 "nbformat_minor": 4
}
