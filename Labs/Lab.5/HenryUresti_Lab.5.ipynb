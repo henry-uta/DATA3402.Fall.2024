{
 "cells": [
  {
   "cell_type": "markdown",
   "metadata": {},
   "source": [
    "# Lab 5\n"
   ]
  },
  {
   "cell_type": "markdown",
   "metadata": {},
   "source": [
    "Matrix Representation: In this lab you will be creating a simple linear algebra system. In memory, we will represent matrices as nested python lists as we have done in lecture. In the exercises below, you are required to explicitly test every feature you implement, demonstrating it works.\n",
    "\n",
    "1. Create a `matrix` class with the following properties:\n",
    "    * It can be initialized in 2 ways:\n",
    "        1. with arguments `n` and `m`, the size of the matrix. A newly instanciated matrix will contain all zeros.\n",
    "        2. with a list of lists of values. Note that since we are using lists of lists to implement matrices, it is possible that not all rows have the same number of columns. Test explicitly that the matrix is properly specified.\n",
    "    * Matrix instances `M` can be indexed with `M[i][j]` and `M[i,j]`.\n",
    "    * Matrix assignment works in 2 ways:\n",
    "        1. If `M_1` and `M_2` are `matrix` instances `M_1=M_2` sets the values of `M_1` to those of `M_2`, if they are the same size. Error otherwise.\n",
    "        2. In example above `M_2` can be a list of lists of correct size.\n"
   ]
  },
  {
   "cell_type": "code",
   "execution_count": 9,
   "metadata": {},
   "outputs": [
    {
     "name": "stdout",
     "output_type": "stream",
     "text": [
      "[[0, 0, 0], [0, 0, 0]]\n"
     ]
    }
   ],
   "source": [
    "class matrix():\n",
    "    def __init__(self, m, n):\n",
    "        self.__m = m\n",
    "        self.__n = n\n",
    "        self.matrix = [[0 for i in range(self.__n)] for j in range(self.__m)]\n",
    "                \n",
    "dummy_matrix = matrix(2,3)\n",
    "\n",
    "print(dummy_matrix.matrix)\n",
    "\n",
    "        "
   ]
  },
  {
   "cell_type": "code",
   "execution_count": null,
   "metadata": {},
   "outputs": [],
   "source": []
  },
  {
   "cell_type": "markdown",
   "metadata": {},
   "source": [
    "2. Add the following methods:\n",
    "    * `shape()`: returns a tuple `(n,m)` of the shape of the matrix.\n",
    "    * `transpose()`: returns a new matrix instance which is the transpose of the matrix.\n",
    "    * `row(n)` and `column(n)`: that return the nth row or column of the matrix M as a new appropriately shaped matrix object.\n",
    "    * `to_list()`: which returns the matrix as a list of lists.\n",
    "    *  `block(n_0,n_1,m_0,m_1)` that returns a smaller matrix located at the n_0 to n_1 columns and m_0 to m_1 rows. \n",
    "    * (Extra credit) Modify `__getitem__` implemented above to support slicing.\n",
    "        "
   ]
  },
  {
   "cell_type": "code",
   "execution_count": 30,
   "metadata": {},
   "outputs": [
    {
     "name": "stdout",
     "output_type": "stream",
     "text": [
      "[[0, 0, 0], [0, 0, 0]]\n",
      "[[0, 0], [0, 0], [0, 0]]\n",
      "[0, 0, 0]\n",
      "[0, 0]\n",
      "[[0]]\n"
     ]
    }
   ],
   "source": [
    "class matrix():\n",
    "    def __init__(self, n, m):\n",
    "        self.__n = n\n",
    "        self.__m = m\n",
    "        self.matrix = [[0 for i in range(self.__m)] for j in range(self.__n)]\n",
    "    def shape(self):\n",
    "        return (self.__n, self.__m)\n",
    "    def transpose(self):\n",
    "        return [[self.matrix[i][j] for i in range(self.__n)] for j in range(self.__m)]\n",
    "    def row(self, n):\n",
    "        return [self.matrix[n - 1][i] for i in range(self.__m)]\n",
    "    def column(self, m):\n",
    "        return [self.matrix[i][m - 1] for i in range(self.__n)]\n",
    "    def to_list():\n",
    "        return self.matrix\n",
    "    def block(self,n_0, n_1, m_0, m_1):\n",
    "        return [[self.matrix[n_0 + i][m_0 + j] for j in range(m_1 - m_0)] for i in range(n_1 - n_0)]\n",
    "\n",
    "dummy_matrix = matrix(2,3)\n",
    "print(dummy_matrix.matrix)\n",
    "print(dummy_matrix.transpose())\n",
    "print(dummy_matrix.row(2))\n",
    "print(dummy_matrix.column(1))\n",
    "print(dummy_matrix.block(0,1,1,2))\n",
    "        "
   ]
  },
  {
   "cell_type": "markdown",
   "metadata": {},
   "source": [
    "3. Write functions that create special matrices (note these are standalone functions, not member functions of your `matrix` class):\n",
    "    * `constant(n,m,c)`: returns a `n` by `m` matrix filled with floats of value `c`.\n",
    "    * `zeros(n,m)` and `ones(n,m)`: return `n` by `m` matrices filled with floats of value `0` and `1`, respectively.\n",
    "    * `eye(n)`: returns the n by n identity matrix."
   ]
  },
  {
   "cell_type": "code",
   "execution_count": 31,
   "metadata": {},
   "outputs": [
    {
     "name": "stdout",
     "output_type": "stream",
     "text": [
      "[[1, 0.0, 0.0, 0.0, 0.0, 0.0], [0.0, 1, 0.0, 0.0, 0.0, 0.0], [0.0, 0.0, 1, 0.0, 0.0, 0.0], [0.0, 0.0, 0.0, 1, 0.0, 0.0], [0.0, 0.0, 0.0, 0.0, 1, 0.0], [0.0, 0.0, 0.0, 0.0, 0.0, 1]]\n"
     ]
    }
   ],
   "source": [
    "def constant(n,m,c):\n",
    "    return [[c for j in range(m)] for i in range(n)]\n",
    "def zeros(n,m):\n",
    "    return [[float(0) for j in range(m)] for i in range(n)]\n",
    "def ones(n,m):\n",
    "    return [[float(1) for j in range(m)] for i in range(n)]\n",
    "def eye(n):\n",
    "    matrix = zeros(n,n)\n",
    "    for i in range(n):\n",
    "        matrix[i][i] = 1\n",
    "    return matrix\n",
    "\n",
    "print(eye(6))"
   ]
  },
  {
   "cell_type": "markdown",
   "metadata": {},
   "source": [
    "4. Add the following member functions to your class. Make sure to appropriately test the dimensions of the matrices to make sure the operations are correct.\n",
    "    * `M.scalarmul(c)`: a matrix that is scalar product $cM$, where every element of $M$ is multiplied by $c$.\n",
    "    * `M.add(N)`: adds two matrices $M$ and $N$. Don’t forget to test that the sizes of the matrices are compatible for this and all other operations.\n",
    "    * `M.sub(N)`: subtracts two matrices $M$ and $N$.\n",
    "    * `M.mat_mult(N)`: returns a matrix that is the matrix product of two matrices $M$ and $N$.\n",
    "    * `M.element_mult(N)`: returns a matrix that is the element-wise product of two matrices $M$ and $N$.\n",
    "    * `M.equals(N)`: returns true/false if $M==N$."
   ]
  },
  {
   "cell_type": "code",
   "execution_count": null,
   "metadata": {},
   "outputs": [],
   "source": [
    "class matrix():\n",
    "    def __init__(self, n, m):\n",
    "        self.__n = n\n",
    "        self.__m = m\n",
    "        self.matrix = [[0 for i in range(self.__m)] for j in range(self.__n)]\n",
    "    def shape(self):\n",
    "        return (self.__n, self.__m)\n",
    "    def transpose(self):\n",
    "        return [[self.matrix[i][j] for i in range(self.__n)] for j in range(self.__m)]\n",
    "    def row(self, n):\n",
    "        return [self.matrix[n - 1][i] for i in range(self.__m)]\n",
    "    def column(self, m):\n",
    "        return [self.matrix[i][m - 1] for i in range(self.__n)]\n",
    "    def to_list():\n",
    "        return self.matrix\n",
    "    def block(self,n_0, n_1, m_0, m_1):\n",
    "        return [[self.matrix[n_0 + i][m_0 + j] for j in range(m_1 - m_0)] for i in range(n_1 - n_0)]\n",
    "    def scalarmul(c):\n",
    "        for i in range(n):\n",
    "            for j in range(m):\n",
    "                self.matrix[i][j] = c * self.matrix[i][j]\n",
    "    def add(N):\n",
    "        if (self.matrix.shape() != N.shape()):\n",
    "            print(\"Cannot add two matrices of different sizes.\")\n",
    "        else:\n",
    "            for i in range(n):\n",
    "                for j in range(m):\n",
    "                    self.matrix[i][j] = self.matrix[i][j] + N[i][j]\n",
    "    "
   ]
  },
  {
   "cell_type": "markdown",
   "metadata": {},
   "source": [
    "5. Overload python operators to appropriately use your functions in 4 and allow expressions like:\n",
    "    * 2*M\n",
    "    * M*2\n",
    "    * M+N\n",
    "    * M-N\n",
    "    * M*N\n",
    "    * M==N\n",
    "    * M=N\n"
   ]
  },
  {
   "cell_type": "markdown",
   "metadata": {},
   "source": [
    "6. Demonstrate the basic properties of matrices with your matrix class by creating two 2 by 2 example matrices using your Matrix class and illustrating the following:\n",
    "\n",
    "$$\n",
    "(AB)C=A(BC)\n",
    "$$\n",
    "$$\n",
    "A(B+C)=AB+AC\n",
    "$$\n",
    "$$\n",
    "AB\\neq BA\n",
    "$$\n",
    "$$\n",
    "AI=A\n",
    "$$"
   ]
  },
  {
   "cell_type": "code",
   "execution_count": null,
   "metadata": {},
   "outputs": [],
   "source": []
  }
 ],
 "metadata": {
  "kernelspec": {
   "display_name": "Python 3 (ipykernel)",
   "language": "python",
   "name": "python3"
  },
  "language_info": {
   "codemirror_mode": {
    "name": "ipython",
    "version": 3
   },
   "file_extension": ".py",
   "mimetype": "text/x-python",
   "name": "python",
   "nbconvert_exporter": "python",
   "pygments_lexer": "ipython3",
   "version": "3.11.9"
  }
 },
 "nbformat": 4,
 "nbformat_minor": 4
}
