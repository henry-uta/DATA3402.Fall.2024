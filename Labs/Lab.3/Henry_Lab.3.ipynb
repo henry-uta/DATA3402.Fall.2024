{
 "cells": [
  {
   "cell_type": "markdown",
   "metadata": {},
   "source": [
    "# Lab 3\n",
    "\n",
    "In this lab we will become familiar with distributions, histograms, and functional programming. Do not use numpy or any other library for this lab.\n",
    "\n",
    "Before that, lets get setup homework submission and submit your previous lab.  \n",
    "\n",
    "## Working on the Command-line.\n",
    "\n",
    "It is important for you to learn to work on the command line and to be familiar with the Unix environment (e.g. Linux, Mac OS, or Windows Linux Subsystem). We'll go over working on the command-line in detail later in the course.\n",
    "\n",
    "You are required to submit your work in this course via GitHub. Today in class, you will setup everything on the command-line.\n",
    "\n",
    "### Command-line basics\n",
    "\n",
    "There is plenty of material online that will help you figure out how to do various tasks on the command line. Commands you may need to know today:\n",
    "\n",
    "* `ls`: lists the contents of the current directory.\n",
    "* `pwd`: prints the path of the current directory.\n",
    "* `cd <directory>`: changes your current directory to the specified directory.\n",
    "* `cd ..`: changes current directory to the previous directory. Basically steps out of the current directory to the directory containing the current directory.\n",
    "* `mkdir <directory>`: create a new directory with the specified name.\n",
    "* `rmdir <directory>`: removes the specified directory. Note it has to be empty.\n",
    "* `rm <filename>`: deletes the specified file.\n",
    "* `mv <filename 1> <filename 1>`: Moves or renames a file.\n",
    "* `cp <filename 1> <filename 2>`: copies an file. If you just provide a path to a directory, it copies the file into that directory with the same filename. If you specifiy a new filename, the copy has a new name. For example `cp File.1.txt File.2.txt` creates a copy of `File.1.txt` with the name `File.2.txt`. Meanwhile `cp File.1.txt my_directory`, where `my_directory` is a directory, creates a copy of `File.1.txt` in directory `my_directory` with the name `File.1.txt`.\n",
    "\n",
    "For reference, here are some example resources I found by googling:\n",
    "\n",
    "* Paths and Wildcards: https://www.warp.dev/terminus/linux-wildcards\n",
    "* Basic commands like copy: https://kb.iu.edu/d/afsk\n",
    "* General introduction to shell: https://github-pages.ucl.ac.uk/RCPSTrainingMaterials/HPCandHTCusingLegion/2_intro_to_shell.html\n",
    "* Manual pages: https://www.geeksforgeeks.org/linux-man-page-entries-different-types/?ref=ml_lbp\n",
    "* Chaining commands: https://www.geeksforgeeks.org/chaining-commands-in-linux/?ref=ml_lbp\n",
    "* Piping: https://www.geeksforgeeks.org/piping-in-unix-or-linux/\n",
    "* Using sed: https://www.geeksforgeeks.org/sed-command-linux-set-2/?ref=ml_lbp\n",
    "* Various Unix commands: https://www.geeksforgeeks.org/linux-commands/?ref=lbp\n",
    "* Cheat sheets:\n",
    "    * https://www.stationx.net/unix-commands-cheat-sheet/\n",
    "    * https://cheatography.com/davechild/cheat-sheets/linux-command-line/\n",
    "    * https://www.theknowledgeacademy.com/blog/unix-commands-cheat-sheet/\n",
    "    \n",
    "These aren't necessarily the best resources. Feel free to search for better ones. Also, don't forget that Unix has built-in manual pages for all of its commands. Just type `man <command>` at the command prompt. Use the space-bar to scroll through the documentation and \"q\" to exit.\n",
    "\n",
    "\n",
    "### Setup and Submission\n",
    "\n",
    "Our course repository is public. The instructions here aim to have you setup a fork of the course repository. Unfortunately because you are forking a public repo, your fork will have to be public also. \n",
    "\n",
    "You should be familiar with git from the first semester of this course. I assume that you all have github accounts and have setup things to be able to [push to github using ssh](https://docs.github.com/en/github/authenticating-to-github/connecting-to-github-with-ssh). The instuctions here lead you to:\n",
    "\n",
    "We'll overview what you will do before going through step by step instructions.\n",
    "\n",
    "1. Setup:\n",
    "    1. Fork the class repository. Some directions in [fork-a-repo](https://docs.github.com/en/github/getting-started-with-github/fork-a-repo).\n",
    "    1. Create a directory on your personal system where you will keep all course materials.\n",
    "    1. In that directory, clone your fork of the repository.\n",
    "    1. Using `git remote`, set the upstream to be the class repo, so you can pull from the class and push to your fork.\n",
    "\n",
    "1. Submission:\n",
    "    1. Copy your solutions into the appropriate directory (e.g. into `Labs/Lab.2/`) and with appropriate filename `Lab.2.solution.ipynb'.\n",
    "    1. Commit / push your solutions.\n",
    "    1. Grant access to course instructors.\n",
    "\n",
    "Below are step by step instructions with examples (including example directory naming convention). Feel free to modify things as you see fit. \n",
    "\n",
    "#### Setup\n",
    "You should only need to follow this instructions once. Here are some useful git commands:\n",
    "\n",
    "* Git help: `git help`\n",
    "* Git remote help: `git help remote`\n",
    "* Check remote status: `git remote -v`\n",
    "* Add a remote: `git remote add <stream name> <repo URL>`\n",
    "* Add a remove: `git remote remove <stream name>`\n",
    "\n",
    "Steps:\n",
    "1. In a browser, log into GitHub and navigate to the [course repository](https://github.com/UTA-DataScience/DATA3402.Fall.2024).\n",
    "1. On the top right of the page, press the fork button to create a new fork into your own GitHub account.\n",
    "1. After successful fork, you should find the browser showing your fork of the course repository. Use the green \"Code\" button to copy path to the repo into your the clipboard of your computer.\n",
    "1. Open a shell on your personal computer.\n",
    "1. If you have not done so already, create a new directory/folder where you will keep all course material to navigate to it. For example: `mkdir Data-3402` and `cd Data-3402`.\n",
    "1. Clone your fork of the repository using `git clone` followed by the path you copied into your clipboard. (copy/paste)\n",
    "1. Paste the URL to your fork in the worksheet for the TAs and instructors.\n",
    "1. Now go into the directory of your clone (`cd DATA3402.Fall.2024`).\n",
    "1. Type `git remote -v` to see the current setup for fetch and pull.\n",
    "1. Note the URL you see. This should be the same as what you used for your clone for both push and fetch.\n",
    "1. Delete the origin remote using `git remote remove origin`.\n",
    "1. Add the course repo as your remote using `git remote add origin https://github.com/UTA-DataScience/DATA3402.Fall.2024.git`.\n",
    "1. Change the push to point to your fork. This means you will need the URL to your clone we copied earlier and confirmed as the original origin. The command will look something like: `git remote set-url --push origin  https://github.com/XXXXXX/DATA3402.Fall.2024.git`, where XXXXX is your username on GitHub.\n",
    "1. Note that if you setup everything correctly, you now should be able to do `git pull` to get updates from the course repo, and do `git push` to push your commits into your own fork.\n",
    "\n",
    "### Submission\n",
    "These instructions outline how you submit files. Some useful commands:\n",
    "* To add a file to local repository: `git add <file>`.\n",
    "* To commit all changed files into local repository: `git -a -m \"A message\"`. You need to provide some comment when you commit. \n",
    "* To push the commited files from the local repository to GitHub: `git push`.\n",
    "* To get updates from GitHub: `git pull`.\n",
    "\n",
    "Steps:\n",
    "1. To submit your labs, navigate to your clone of your fork of the course repository. \n",
    "1. Use `git pull` to make sure you have the latest updates. \n",
    "1. Make sure your copy of the lab your are working on is in the appropriate place in this clone. That means if you have the file elsewhere, copy it to the same directory in your clone of your fork. \n",
    "1. Note that in order to avoid future conflicts, you should always name your solution differently than the original file in the class repo. For example if your file is still named `Lab.2.ipynb` you should rename it using the `mv` command: `mv Lab.2.ipynb Lab.2.solution.ipynb`. \n",
    "1. Add and files you wish to submit into the repo. For example: `git add Labs/Lab.2/Lab.2.solution.ipynb`\n",
    "1. Commit any changes: `git commit -a -m \"Lab 2 updates\"`\n",
    "1. Push your changes: `git push`\n",
    "1. Check on github website that your solutions have been properly submitted.\n",
    "\n",
    "Before you leave the session today, submit your Lab.2 solution as is now to make sure you can do it. If you need to work further on your lab, navigate jupyter to the copy of the lab you just submitted and work there. Once done, repeat the commit and push commands to submit your updated solution. Note that lab 2 is due by midnight Monday  9/8/2024.\n"
   ]
  },
  {
   "cell_type": "markdown",
   "metadata": {},
   "source": [
    "### Uniform Distribution\n",
    "Lets start with generating some fake random data. You can get a random number between 0 and 1 using the python random module as follow:"
   ]
  },
  {
   "cell_type": "code",
   "execution_count": 8,
   "metadata": {},
   "outputs": [
    {
     "name": "stdout",
     "output_type": "stream",
     "text": [
      "The Value of x is 0.12849214145899557\n"
     ]
    }
   ],
   "source": [
    "import random\n",
    "x=random.random()\n",
    "print(\"The Value of x is\", x)"
   ]
  },
  {
   "cell_type": "markdown",
   "metadata": {},
   "source": [
    "Everytime you call random, you will get a new number.\n",
    "\n",
    "*Exercise 1:* Using random, write a function `generate_uniform(N, mymin, mymax)`, that returns a python list containing N random numbers between specified minimum and maximum value. Note that you may want to quickly work out on paper how to turn numbers between 0 and 1 to between other values. "
   ]
  },
  {
   "cell_type": "code",
   "execution_count": 9,
   "metadata": {},
   "outputs": [],
   "source": [
    "# Skeleton\n",
    "import random\n",
    "def generate_uniform(N,x_min,x_max):\n",
    "###BEGIN SOLUTION\n",
    "    out = [random.random() for _ in range(N)]\n",
    "    out = [ x_min + (x_max - x_min) * i for i in out]\n",
    "###END SOLUTION\n",
    "    return out\n"
   ]
  },
  {
   "cell_type": "code",
   "execution_count": 10,
   "metadata": {},
   "outputs": [
    {
     "name": "stdout",
     "output_type": "stream",
     "text": [
      "Data Type: <class 'list'>\n",
      "Data Length: 1000\n",
      "Type of Data Contents: <class 'float'>\n",
      "Data Minimum: -9.957464578164661\n",
      "Data Maximum: 9.98030278076753\n"
     ]
    }
   ],
   "source": [
    "# Test your solution here\n",
    "data=generate_uniform(1000,-10,10)\n",
    "print (\"Data Type:\", type(data))\n",
    "print (\"Data Length:\", len(data))\n",
    "if len(data)>0: \n",
    "    print (\"Type of Data Contents:\", type(data[0]))\n",
    "    print (\"Data Minimum:\", min(data))\n",
    "    print (\"Data Maximum:\", max(data))"
   ]
  },
  {
   "cell_type": "markdown",
   "metadata": {},
   "source": [
    "*Exercise 2a:* \n",
    "Write a function that computes the mean of values in a list. Recall the equation for the mean of a random variable $\\bf{x}$ computed on a data set of $n$ values $\\{ x_i \\} = \\{x_1, x_2, ..., x_n\\}$  is ${\\bf\\bar{x}} = \\frac{1}{n} \\sum_i^n x_i$."
   ]
  },
  {
   "cell_type": "code",
   "execution_count": 11,
   "metadata": {},
   "outputs": [],
   "source": [
    "# Skeleton\n",
    "def mean(Data):\n",
    "    m=0.\n",
    "    n = len(Data)\n",
    "    ### BEGIN SOLUTION\n",
    "    for i in Data:\n",
    "        m = m + i\n",
    "    m = m/n\n",
    "    ### END SOLUTION\n",
    "    return m"
   ]
  },
  {
   "cell_type": "code",
   "execution_count": 12,
   "metadata": {},
   "outputs": [
    {
     "name": "stdout",
     "output_type": "stream",
     "text": [
      "Mean of Data: 0.1457385615162454\n"
     ]
    }
   ],
   "source": [
    "# Test your solution here\n",
    "print (\"Mean of Data:\", mean(data))"
   ]
  },
  {
   "cell_type": "markdown",
   "metadata": {},
   "source": [
    "*Exercise 2b:* \n",
    "Write a function that computes the variance of values in a list. Recall the equation for the variance of a random variable $\\bf{x}$ computed on a data set of $n$ values $\\{ x_i \\} = \\{x_1, x_2, ..., x_n\\}$  is ${\\bf\\langle x \\rangle} = \\frac{1}{n} \\sum_i^n (x_i - {\\bf\\bar{x}})$."
   ]
  },
  {
   "cell_type": "code",
   "execution_count": 13,
   "metadata": {},
   "outputs": [],
   "source": [
    "# Skeleton\n",
    "def variance(Data):\n",
    "    m=0\n",
    "    n = len(Data)\n",
    "    mu = mean(Data)\n",
    "    ### BEGIN SOLUTION\n",
    "    for i in Data:\n",
    "        m = m + (i - mu) * (i - mu)\n",
    "    m = m/n\n",
    "    ### END SOLUTION\n",
    "    \n",
    "    return m"
   ]
  },
  {
   "cell_type": "code",
   "execution_count": 14,
   "metadata": {},
   "outputs": [
    {
     "name": "stdout",
     "output_type": "stream",
     "text": [
      "Variance of Data: 33.36864428873979\n"
     ]
    }
   ],
   "source": [
    "# Test your solution here\n",
    "print (\"Variance of Data:\", variance(data))"
   ]
  },
  {
   "cell_type": "markdown",
   "metadata": {},
   "source": [
    "## Histogramming"
   ]
  },
  {
   "cell_type": "markdown",
   "metadata": {},
   "source": [
    "*Exercise 3:* Write a function that bins the data so that you can create a histogram. An example of how to implement histogramming is the following logic:\n",
    "\n",
    "* User inputs a list of values `x` and optionally `n_bins` which defaults to 10.\n",
    "* If not supplied, find the minimum and maximum (`x_min`,`x_max`) of the values in x.\n",
    "* Determine the bin size (`bin_size`) by dividing the range of the function by the number of bins.\n",
    "* Create an empty list of zeros of size `n_bins`, call it `hist`.\n",
    "* Loop over the values in `x`\n",
    "    * Loop over the values in `hist` with index `i`:\n",
    "        * If x is between `x_min+i*bin_size` and `x_min+(i+1)*bin_size`, increment `hist[i].` \n",
    "        * For efficiency, try to use continue to goto the next bin and data point.\n",
    "* Return `hist` and the list corresponding of the bin edges (i.e. of `x_min+i*bin_size`).    "
   ]
  },
  {
   "cell_type": "code",
   "execution_count": 15,
   "metadata": {},
   "outputs": [],
   "source": [
    "# Solution\n",
    "def histogram(x,n_bins=10,x_min=None,x_max=None):\n",
    "    ### BEGIN SOLUTION\n",
    "\n",
    "    if(x_min is None):\n",
    "        x_min = min(x)\n",
    "    if(x_max is None):\n",
    "        x_max = max(x)\n",
    "    bin_size = (x_max - x_min)/n_bins\n",
    "    \n",
    "    hist = [0] * n_bins\n",
    "    bin_edges = [x_min + i * bin_size for i in range(n_bins + 1)]\n",
    " \n",
    "    for value in x:\n",
    "        if value == x_max:\n",
    "            hist[-1] += 1\n",
    "        else:\n",
    "            # Find the appropriate bin for the value\n",
    "            bin_index = min(n_bins - 1, int((value - x_min) / bin_size))\n",
    "            hist[bin_index] += 1\n",
    "    \n",
    "    ### END SOLUTION\n",
    "    return hist,bin_edges"
   ]
  },
  {
   "cell_type": "code",
   "execution_count": 16,
   "metadata": {},
   "outputs": [
    {
     "name": "stdout",
     "output_type": "stream",
     "text": [
      "[8, 10, 13, 10, 10, 8, 7, 12, 9, 8, 10, 11, 8, 12, 13, 15, 6, 10, 12, 7, 15, 10, 10, 3, 18, 6, 11, 9, 9, 7, 13, 9, 3, 16, 6, 7, 9, 4, 10, 11, 10, 11, 6, 12, 10, 18, 5, 6, 10, 10, 8, 13, 11, 11, 15, 14, 6, 12, 11, 7, 10, 5, 10, 10, 8, 9, 7, 12, 6, 6, 5, 13, 14, 14, 12, 4, 13, 17, 12, 12, 20, 13, 17, 8, 8, 6, 6, 16, 7, 16, 10, 7, 8, 8, 10, 7, 13, 14, 9, 7]\n"
     ]
    }
   ],
   "source": [
    "# Test your solution here\n",
    "h,b=histogram(data,100)\n",
    "print(h)"
   ]
  },
  {
   "cell_type": "markdown",
   "metadata": {},
   "source": [
    "*Exercise 4:* Write a function that uses the histogram function in the previous exercise to create a text-based \"graph\". For example the output could look like the following:\n",
    "```\n",
    "[  0,  1] : ######\n",
    "[  1,  2] : #####\n",
    "[  2,  3] : ######\n",
    "[  3,  4] : ####\n",
    "[  4,  5] : ####\n",
    "[  5,  6] : ######\n",
    "[  6,  7] : #####\n",
    "[  7,  8] : ######\n",
    "[  8,  9] : ####\n",
    "[  9, 10] : #####\n",
    "```\n",
    "\n",
    "Where each line corresponds to a bin and the number of `#`'s are proportional to the value of the data in the bin. "
   ]
  },
  {
   "cell_type": "code",
   "execution_count": 17,
   "metadata": {},
   "outputs": [],
   "source": [
    "# Solution\n",
    "def draw_histogram(x,n_bins,x_min=None,x_max=None,character=\"#\",max_character_per_line=20):\n",
    "    ### BEGIN SOLUTION\n",
    "\n",
    "    hist, bin_edges = histogram(x, n_bins, x_min, x_max)\n",
    "    \n",
    "    max_count = max(hist)\n",
    "    \n",
    "    for i in range(n_bins):\n",
    "        if hist[i] <= max_character_per_line:\n",
    "            bin_range = f\"[{bin_edges[i]:5.1f}, {bin_edges[i+1]:5.1f}]\"\n",
    "            print(bin_range +f\" : {character * hist[i]}\")\n",
    "        else:\n",
    "            bin_range = f\"[{bin_edges[i]:5.1f}, {bin_edges[i+1]:5.1f}]\"\n",
    "            print(bin_range + f\" : {character * max_character_per_line}\")\n",
    "    \n",
    "    \n",
    "    ### END SOLUTION\n",
    "    return hist,bin_edges"
   ]
  },
  {
   "cell_type": "code",
   "execution_count": 21,
   "metadata": {},
   "outputs": [
    {
     "name": "stdout",
     "output_type": "stream",
     "text": [
      "[-10.0,  -9.0] : ####################\n",
      "[ -9.0,  -8.0] : ####################\n",
      "[ -8.0,  -7.0] : ####################\n",
      "[ -7.0,  -6.0] : ####################\n",
      "[ -6.0,  -5.0] : ####################\n",
      "[ -5.0,  -4.0] : ####################\n",
      "[ -4.0,  -3.0] : ################\n",
      "[ -3.0,  -2.0] : ####################\n",
      "[ -2.0,  -1.0] : ##############\n",
      "[ -1.0,  -0.0] : ####################\n",
      "[ -0.0,   1.0] : ####################\n",
      "[  1.0,   2.0] : ##################\n",
      "[  2.0,   3.0] : ###################\n",
      "[  3.0,   4.0] : ####################\n",
      "[  4.0,   5.0] : ##################\n",
      "[  5.0,   6.0] : ####################\n",
      "[  6.0,   7.0] : ##################\n",
      "[  7.0,   8.0] : ####################\n",
      "[  8.0,   9.0] : ############\n",
      "[  9.0,  10.0] : ###############\n"
     ]
    }
   ],
   "source": [
    "# Test your solution here\n",
    "new_data = generate_uniform(400, -10, 10) \n",
    "\n",
    "h,b= draw_histogram(new_data,20)\n"
   ]
  },
  {
   "cell_type": "markdown",
   "metadata": {},
   "source": [
    "## Functional Programming\n",
    "\n",
    "*Exercise 5:* Write a function the applies a booling function (that returns true/false) to every element in data, and return a list of indices of elements where the result was true. Use this function to find the indices of entries greater than 0.5. "
   ]
  },
  {
   "cell_type": "code",
   "execution_count": 22,
   "metadata": {},
   "outputs": [],
   "source": [
    "def where(mylist,myfunc):\n",
    "    \n",
    "    ### BEGIN SOLUTION\n",
    "    out = [i for i, val in enumerate(mylist) if myfunc(val)]     \n",
    "    ### END SOLUTION\n",
    "    \n",
    "    return out"
   ]
  },
  {
   "cell_type": "code",
   "execution_count": 23,
   "metadata": {},
   "outputs": [
    {
     "name": "stdout",
     "output_type": "stream",
     "text": [
      "[1, 3]\n"
     ]
    }
   ],
   "source": [
    "# Test your solution here\n",
    "mylist = [0.1, 0.7, 0.4, 0.9, 0.3]\n",
    "result = where(mylist, lambda x: x > 0.5)\n",
    "print(result)"
   ]
  },
  {
   "cell_type": "markdown",
   "metadata": {},
   "source": [
    "*Exercise 6:* The `inrange(mymin,mymax)` function below returns a function that tests if it's input is between the specified values. Write corresponding functions that test:\n",
    "* Even\n",
    "* Odd\n",
    "* Greater than\n",
    "* Less than\n",
    "* Equal\n",
    "* Divisible by"
   ]
  },
  {
   "cell_type": "code",
   "execution_count": 24,
   "metadata": {},
   "outputs": [
    {
     "name": "stdout",
     "output_type": "stream",
     "text": [
      "True True False False False\n",
      "False False True True False\n",
      "Number of Entries passing F1: 517\n",
      "Number of Entries passing F2: 0\n"
     ]
    }
   ],
   "source": [
    "def in_range(mymin,mymax):\n",
    "    def testrange(x):\n",
    "        return x<mymax and x>=mymin\n",
    "    return testrange\n",
    "\n",
    "# Examples:\n",
    "F1= in_range(0,10)\n",
    "F2= in_range(10,20)\n",
    "\n",
    "# Test of in_range\n",
    "print (F1(0), F1(1), F1(10), F1(15), F1(20))\n",
    "print (F2(0), F2(1), F2(10), F2(15), F2(20))\n",
    "\n",
    "print (\"Number of Entries passing F1:\", len(where(data,F1)))\n",
    "print (\"Number of Entries passing F2:\", len(where(data,F2)))"
   ]
  },
  {
   "cell_type": "code",
   "execution_count": 25,
   "metadata": {},
   "outputs": [],
   "source": [
    "### BEGIN SOLUTION\n",
    "\n",
    "def is_even(x):\n",
    "    return x % 2 == 0\n",
    "\n",
    "def is_odd(x):\n",
    "    return x % 2 != 0\n",
    "\n",
    "def greater_than(n):\n",
    "    def test(x):\n",
    "        return x > n\n",
    "    return test\n",
    "\n",
    "def less_than(n):\n",
    "    def test(x):\n",
    "        return x < n\n",
    "    return test\n",
    "\n",
    "def is_equal(n):\n",
    "    def test(x):\n",
    "        return x == n\n",
    "    return test\n",
    "\n",
    "def divisible_by(n):\n",
    "    def test(x):\n",
    "        return x % n == 0\n",
    "    return test\n",
    "    \n",
    "### END SOLUTION"
   ]
  },
  {
   "cell_type": "code",
   "execution_count": 26,
   "metadata": {},
   "outputs": [
    {
     "name": "stdout",
     "output_type": "stream",
     "text": [
      "True\n",
      "True\n",
      "False\n",
      "True\n",
      "False\n",
      "True\n"
     ]
    }
   ],
   "source": [
    "# Test your solution\n",
    "\n",
    "print(is_even(4))\n",
    "print(is_odd(3))\n",
    "print(greater_than(5)(1))\n",
    "print(less_than(5)(3))\n",
    "print(is_equal(9)(10))\n",
    "print(divisible_by(3)(9))"
   ]
  },
  {
   "cell_type": "markdown",
   "metadata": {},
   "source": [
    "*Exercise 7:* Repeat the previous exercise using `lambda` and the built-in python functions sum and map instead of your solution above. "
   ]
  },
  {
   "cell_type": "code",
   "execution_count": 27,
   "metadata": {},
   "outputs": [
    {
     "name": "stdout",
     "output_type": "stream",
     "text": [
      "Even numbers: 5\n",
      "Odd numbers: 5\n",
      "Numbers greater than 5: 5\n",
      "Numbers less than 5: 4\n",
      "Numbers equal to 3: 1\n",
      "Numbers divisible by 3: 3\n"
     ]
    }
   ],
   "source": [
    "### BEGIN SOLUTION\n",
    "\n",
    "mylist = [1, 2, 3, 4, 5, 6, 7, 8, 9, 10]\n",
    "\n",
    "even_numbers = sum(map(lambda x: x % 2 == 0, mylist))\n",
    "\n",
    "odd_numbers = sum(map(lambda x: x % 2 != 0, mylist))\n",
    "\n",
    "greater_than_5 = sum(map(lambda x: x > 5, mylist))\n",
    "\n",
    "less_than_5 = sum(map(lambda x: x < 5, mylist))\n",
    "\n",
    "equal_to_3 = sum(map(lambda x: x == 3, mylist))\n",
    "\n",
    "divisible_by_3 = sum(map(lambda x: x % 3 == 0, mylist))\n",
    "\n",
    "print(f\"Even numbers: {even_numbers}\")\n",
    "print(f\"Odd numbers: {odd_numbers}\")\n",
    "print(f\"Numbers greater than 5: {greater_than_5}\")\n",
    "print(f\"Numbers less than 5: {less_than_5}\")\n",
    "print(f\"Numbers equal to 3: {equal_to_3}\")\n",
    "print(f\"Numbers divisible by 3: {divisible_by_3}\")\n",
    "\n",
    "###END SOLUTION\n"
   ]
  },
  {
   "cell_type": "markdown",
   "metadata": {},
   "source": [
    "## Monte Carlo\n",
    "\n",
    "*Exercise 7:* Write a \"generator\" function called `generate_function(func,x_min,x_max,N)`, that instead of generating a flat distribution, generates a distribution with functional form coded in `func`. Note that `func` will always be > 0.  \n",
    "\n",
    "Use the test function below and your histogramming functions above to demonstrate that your generator is working properly.\n",
    "\n",
    "Hint: A simple, but slow, solution is to a draw random number `test_x` within the specified range and another number `p` between the `min` and `max` of the function (which you will have to determine). If `p<=function(test_x)`, then place `test_x` on the output. If not, repeat the process, drawing two new numbers. Repeat until you have the specified number of generated numbers, `N`. For this problem, it's OK to determine the `min` and `max` by numerically sampling the function.  "
   ]
  },
  {
   "cell_type": "code",
   "execution_count": 42,
   "metadata": {},
   "outputs": [],
   "source": [
    "import random \n",
    "\n",
    "def generate_function(func,x_min,x_max,N=1000):\n",
    "    out = list()\n",
    "    ### BEGIN SOLUTION\n",
    "    num_points = 1000\n",
    "    xs = generate_uniform(num_points, x_min, x_max)\n",
    "    func_values = [func(x) for x in xs]\n",
    "    func_max = max(func_values)\n",
    "\n",
    "    i = 0\n",
    "    while i < N:\n",
    "        p = func_max * random.random()\n",
    "        test_x = x_min + (x_max - x_min) * random.random()\n",
    "        if p <= func(test_x):\n",
    "            out.append(test_x)\n",
    "            i += 1\n",
    "        \n",
    "    return out\n",
    "    ### END SOLUTION\n"
   ]
  },
  {
   "cell_type": "code",
   "execution_count": 43,
   "metadata": {},
   "outputs": [
    {
     "name": "stdout",
     "output_type": "stream",
     "text": [
      "1000\n",
      "[8.881475064045892, 4.602540121210374, 8.337851113388826, 5.9794836801638755, 8.488350168805336, 7.961367179681449, 4.380555188451428, 8.659708842904205, 5.444532260686361, 9.681275833317738, 4.407218851678863, 9.937913465705583, 1.8780886805686436, 6.28340887081389, 9.718915299875393, 8.111820235147206, 8.259550589149638, 5.850483195042991, 4.118688599493657, 5.323543818986385, 9.743919791364018, 3.193123658573216, 1.5660114311192186, 4.546512941796998, 7.725672524746091, 4.028341516322586, 3.6893312249438956, 7.798745870764819, 2.1699712775610003, 9.522464813147915, 4.8615367852964955, 5.222181993446695, 7.327792890616461, 3.609819543756412, 3.087099868203712, 5.413086482297541, 3.9367294722293265, 3.0386083501045857, 5.422650039943573, 5.432522888522746, 2.901343833286175, 9.530525647731787, 7.51676169356857, 3.445563142795348, 4.484232874929056, 6.509335350511255, 3.6072382056891703, 7.996352125912899, 7.559363236048088, 9.655874115617038, 1.1445147549852541, 5.770768156714601, 8.731695987956623, 6.809684287954073, 9.403344264125991, 1.9266515713447607, 7.111160071523712, 6.7397502806738, 7.672477885683371, 5.224286240988809, 5.497925496040982, 8.74034785821352, 9.138640435621207, 7.232740791317328, 5.618366486920224, 4.965709762467371, 9.227823179197964, 7.464983287866885, 1.7942421632967698, 2.0117796795943885, 8.956670825373259, 9.77122243906669, 8.372213061843578, 3.5008176145152694, 8.293177785769808, 8.560359390695751, 7.167227402674223, 8.320659425322082, 9.760583640163084, 7.809623347353543, 4.519301823282298, 4.042170296007887, 4.719290298660718, 6.732441838421348, 8.52431178652843, 6.199115743086635, 8.863568438666293, 1.8491826993369742, 8.897078705242983, 8.249961064682488, 7.1215411269689, 9.84182210152397, 5.986824141773715, 9.668344262509638, 8.482669283173411, 6.712815343697608, 1.9685625246603178, 7.985971739444386, 6.021838791841825, 2.6613873788512574, 5.04359054925636, 2.155954762008394, 1.8628579928324485, 5.697404765224297, 2.9776038652728376, 5.1487683471575805, 6.827074253388384, 6.607872129585003, 5.983436023775667, 9.355210046571557, 5.582046568716985, 6.438875006341105, 9.987591205704486, 9.643437918099611, 9.492703527041927, 7.903347456621795, 7.290900170716529, 7.610566861873113, 5.061333916188894, 2.240937396724334, 9.381191403405666, 3.4162059011018817, 2.6175857527768276, 5.871064810122746, 9.102001591215187, 7.646701495844205, 9.715755914798873, 7.679726686875607, 3.3297035450297487, 4.352319135245226, 8.848452988377218, 7.811738793817096, 6.480689849296119, 3.868948162990585, 6.020932965381903, 9.463123245764933, 9.273448895081502, 9.128855872352979, 6.209412414700022, 7.1510087771606585, 5.136312347445587, 8.490050349594654, 5.628253735745952, 1.6542442291844872, 8.293245160262625, 3.7255258190718266, 5.1185339925261575, 4.029023067507885, 6.84080564317055, 9.596850102465865, 7.977333451090594, 9.55674444948084, 8.470958297142905, 3.89134638831469, 7.442882366315598, 6.129290633752435, 5.471942220446584, 6.787918547317531, 7.8762130598594755, 9.477307426719474, 7.862788390157882, 3.971055161950642, 4.876448256732619, 9.249256243637213, 7.964659819625038, 4.400456141001717, 2.0915932895821445, 4.310258581416976, 9.507853411722946, 7.129730620968613, 9.150353634774044, 1.9722656430016139, 9.427212446608173, 3.9770447379542007, 3.3529587838234667, 5.129577123217915, 5.7977719849292795, 9.486234808731185, 8.425602368977671, 7.743915090569695, 4.4634873619261795, 9.732643948113047, 5.238196475002447, 8.739716801544997, 9.317171755389888, 3.764821141908239, 7.139831445291006, 8.773859284398455, 9.943545601035437, 4.914843319264283, 9.615984801409182, 5.593529575040255, 8.535555952955697, 7.9768000960722905, 9.63551128942833, 9.297499756100049, 8.053807612767605, 7.87740523366807, 8.047178778079143, 9.9947618519034, 9.567832459717739, 6.104273931682802, 8.7078893860525, 5.252207233247286, 1.11832348348198, 9.201313096387587, 7.456382095916999, 9.309278594508388, 3.8807622173014957, 6.131929366157637, 9.221456501797352, 6.0814907246575665, 5.127602931713318, 7.429575250561278, 8.383840418485631, 4.554787293664827, 8.65271520346176, 7.062745424667515, 7.18008723800434, 4.943068449473352, 9.651580582761763, 5.592673892103889, 3.767685597952184, 2.854595821627645, 9.68181982067555, 9.436390724481683, 7.616355725505841, 7.733142706081643, 9.801584451058234, 6.922175661052721, 6.348023570440153, 9.607462354175727, 9.534555064240834, 2.4435967425798024, 6.584110500265339, 5.533401208677216, 9.878540801836026, 7.3714606571685914, 5.234037760662441, 5.4220472071670835, 9.27087144173218, 9.441250683495142, 5.235598889377671, 8.564250301134377, 7.243140623336007, 6.364151549504089, 3.992667840120667, 8.570304891692972, 9.8006860935206, 8.046054264813405, 7.114600727733379, 9.803507695981274, 8.18596108695515, 6.50706760865945, 9.782972148089229, 9.266536259840763, 0.9427008791961156, 2.9686365757959376, 4.440176426186752, 5.640716246840527, 7.296048786789159, 7.551814996049428, 9.586652220833814, 3.9640491557715984, 9.456852015643706, 6.306153766907709, 7.10422564869333, 8.587072649643614, 7.582619149750146, 6.923807901638705, 3.275518400203914, 9.749133149609513, 6.084601612244987, 0.22298962537028677, 0.15730899822108957, 5.825458315533179, 9.589338415794673, 4.924514969327535, 4.870204327665297, 9.610746453360436, 8.778519650789814, 8.67795840095369, 8.265559824596721, 7.465908039932402, 6.658255635135751, 3.872191594355221, 6.658914827773956, 8.09489535588469, 7.2832503185870445, 9.633355893047932, 2.1222788066166896, 6.669140865371686, 9.9625764039346, 3.5574096758959914, 4.867987782773034, 1.5764753367763895, 4.300721029393847, 7.731386758018209, 3.2695304139578694, 2.9413589129418405, 4.609957654590255, 9.551548417604016, 6.387314926966145, 5.746976119105725, 7.497370089566511, 3.2766388327898968, 5.4442045789278835, 1.4543342028631645, 8.345097400446116, 8.39385038719113, 5.267014423698328, 4.945627347386427, 8.471988625742211, 5.225152821042306, 8.1518672956068, 5.232867006468371, 8.175120545466552, 6.552951174456048, 7.80949193191879, 7.619095822307441, 6.216933921673108, 7.942830189217926, 9.142960173830886, 7.381630966642183, 8.675258867085228, 6.656323478979641, 6.184251817826068, 0.9733933990519095, 9.67230529432847, 3.899033413862237, 8.83042559555917, 8.19922002343188, 8.99190870125245, 8.447797553565273, 7.903967587171206, 9.198784655295999, 0.6170406444110277, 1.5869850704456312, 7.466555593391123, 4.363639443656325, 1.57095322757279, 4.7967795954195775, 5.112528206204, 4.435857414134414, 7.234252054459693, 5.848481875516587, 8.245823346216753, 9.000127272502045, 9.738746839047511, 5.21902230693152, 3.7480091593151177, 7.145729172253509, 5.655528849361158, 3.843312992579977, 8.981765816530913, 9.334766159391885, 1.9327581053366794, 8.286479312462342, 4.514385158158667, 8.122381430003069, 6.7176028851446326, 7.80710846309443, 3.7280635553771613, 7.06446520262589, 3.7233157209144374, 6.498237310549983, 2.1102702445307306, 7.857529657856342, 1.89638951153142, 8.570253782689935, 9.767015570417046, 4.9451477371474, 6.664835695185109, 9.534643122401734, 9.923457863821415, 2.991639058608755, 6.832881094748014, 8.111470590089048, 8.580180478123475, 3.431098583635759, 9.624417226828175, 8.774989274172246, 7.197469049275933, 9.956856449204114, 4.872060761761454, 7.971430449386196, 8.810286378865376, 7.8350871095881764, 6.219705173138558, 8.492511542501994, 6.686003878197142, 3.098194102075694, 8.029234735779498, 8.374514840228098, 7.885350511562455, 3.4790843982710538, 9.729037722093732, 5.008908686064149, 4.083145573012049, 0.42466730634932115, 2.639018215331961, 9.402523017477197, 8.217981074304495, 4.016958716144381, 5.2025660976858585, 5.3456327439244475, 8.23810397138841, 6.022616628382133, 3.790921316684135, 8.734309249076338, 7.8473679548532616, 9.817582863516034, 8.28577579783664, 8.870971571944782, 9.82617212401005, 6.40576773986985, 8.12119862493608, 5.448402022795243, 4.3711964964929715, 8.136451843915443, 9.730636495890346, 3.211773627551845, 8.722251589831785, 6.380134857897674, 5.491199953391689, 9.45576254919738, 9.02287980458337, 7.6897249601820095, 8.768255892479736, 2.0769657743238246, 3.731603281923449, 9.471139050109842, 2.7097555577953027, 8.452568708066584, 9.40954862342955, 9.497594380757647, 6.665038753913737, 4.5555683107893135, 6.267479816032106, 7.800353423125676, 5.0565825072752455, 5.206387529451795, 7.55488051788609, 8.18759294722682, 7.936340771155398, 9.775235640335744, 8.787836322602447, 3.385324035819135, 9.413722558753864, 9.737126012698589, 9.255001381753493, 4.1581427330350795, 2.0159808112748188, 9.543177351322491, 5.447878469458441, 3.627349950634977, 9.101620003404705, 3.424088258099036, 8.163097658828283, 9.940104989853713, 9.642013549182098, 9.26095599256117, 9.193429826577248, 8.904543751246505, 5.2255507223959246, 7.674709290554498, 8.535912174646299, 4.371340993191034, 5.9207587277073115, 3.914766892170547, 2.2965053747230844, 4.694875802142492, 3.7844909620921974, 2.64616990690413, 8.424624330144114, 4.677169041536465, 4.916438366866441, 8.947666055385517, 9.969873742895814, 9.400314533780497, 8.040208786752093, 5.215841034264765, 3.1714870228024985, 3.029384095665991, 9.155967633053377, 8.05872740439819, 9.408620858018326, 7.242452370433164, 6.295547203883405, 6.200640422040543, 9.117885298860235, 9.898212401740514, 7.828774942753024, 9.562465193378177, 8.583695751322502, 6.616473401618372, 9.196408371012195, 6.210077690232664, 9.37028776508983, 2.2503808805140926, 3.602263922405627, 8.616224275266887, 9.752715073815416, 3.352955184118386, 8.338725069414755, 6.685456399037223, 4.693154385128224, 7.82701292961951, 6.833173993556819, 7.728606926348296, 6.321251918181689, 0.8813990269158845, 7.451761700423177, 2.1840161253517865, 9.46729864290829, 6.484438405497739, 5.412790478951255, 0.778064581445308, 9.994602344607332, 1.3422417301470502, 2.194245327628803, 2.276073314569831, 6.957346814955844, 7.3608695619030335, 7.604975097222971, 7.712807819811605, 5.7065339604164205, 6.937802204451983, 9.72576040256822, 6.973346547696923, 9.478522076841537, 9.567575435483729, 9.469169305737836, 8.243974267343662, 4.413223275549656, 2.4642437292858723, 5.015170014995599, 2.727503912831909, 1.8759754775887383, 8.402187886082904, 5.736776705737336, 3.528727281365076, 8.350436881804189, 1.8713264647295824, 8.31278252480754, 8.410914676995441, 9.876851629511416, 5.787025848154447, 5.304268371153249, 9.307235234376067, 6.091008752572113, 6.264387712847652, 5.662192110366266, 7.0556738397636, 2.2756260419003405, 5.094093890291219, 7.0945149777624525, 6.756267423526054, 6.359397252011167, 9.924711616562272, 7.645964178661851, 3.4740170560568764, 6.356744177105273, 1.1967974419011917, 8.061716222422344, 0.3429746253649657, 7.475773411037798, 6.149231527854746, 9.122373577695779, 9.510611962510042, 9.996030594445969, 7.8232640338496715, 4.987897921330652, 5.253844915651856, 4.077252067686486, 9.243703843202267, 9.108448005512495, 1.5318271994027244, 8.884546276072065, 4.607916729392496, 7.583297581551502, 2.0080766428514183, 4.886231371882648, 5.732784192739056, 4.627611815090909, 9.115592718970008, 6.922992996638601, 2.1609883068542146, 4.0707662339120265, 5.792475117952774, 6.765533080843399, 9.178156124297224, 9.935664957561984, 3.094839743437393, 8.847344229236025, 9.646509124804137, 4.468959935287371, 7.4245676761862525, 6.502228486095399, 2.939920536518793, 9.899811859098309, 6.739887325494761, 5.174543473688111, 8.96059887684027, 7.152154223323609, 6.76051717618429, 9.757164630313577, 9.399715336093038, 4.634230659150598, 7.082181128741035, 4.761622133480983, 3.2141403061302176, 3.353924744065556, 7.040031337013622, 9.736189278211938, 4.786697201195537, 0.8173829526724052, 4.347718792523359, 5.956632463914085, 9.322142928110171, 8.876699617107507, 9.922354174586008, 5.220914079264603, 6.763769434956605, 3.983493931234283, 4.244404409385666, 8.681177207918408, 8.396454882629337, 0.7620201094547396, 6.080167089750075, 2.6023909698936922, 8.404241372318147, 5.976478785355339, 6.491090357233979, 6.122422291393662, 4.435816339020676, 3.6533977638412765, 4.393883114490583, 5.838648569480066, 5.625427744691077, 6.897702856469844, 1.9092760357717509, 9.635069386414262, 7.419376389564308, 5.213423219951331, 9.812824302735896, 9.60897308219316, 3.172374639777459, 2.4115371553987797, 7.0485498489833285, 6.124624391342381, 5.978646988935116, 8.990120600543, 1.627820957138667, 7.537099054202074, 8.462130635135823, 8.179119211458136, 5.528863791701884, 5.9571621092070215, 9.039998655941456, 5.274012491038562, 9.182638261021687, 0.7256361963239, 5.786055613692729, 1.0312194725939472, 7.736045214171337, 9.308527666813118, 2.7181325694354266, 4.966613846105482, 8.690821049854955, 7.65060534082206, 5.221012977957125, 3.2661160582726936, 9.284071643679484, 8.25366392578653, 9.732099954118114, 8.112578721501922, 9.119906064269598, 8.368395431010775, 8.091681089559621, 6.9452170163315685, 7.757219925982817, 9.149496975813333, 8.496102988013115, 2.0970833182698634, 7.169793341113944, 8.576901932952639, 2.914148590349818, 4.499725067081377, 1.9949389657395589, 0.45710727690524977, 9.626918032210707, 7.310253196717098, 6.844809526079975, 2.176370486333835, 4.971811449842663, 9.220475140249295, 2.6728072605349915, 6.0371453296894835, 6.686363301013182, 8.987582305133486, 3.394684423462757, 9.268124506186961, 1.998199252875772, 5.233747840551447, 9.520685104169035, 2.954017088611053, 9.16660003682494, 0.8946753760569548, 9.074062179634822, 6.502275937732511, 1.5613434110567292, 2.4854529940399663, 4.547070956712897, 2.2849354340441153, 8.724917130270093, 6.307957352063191, 2.147498199211393, 2.970838221687262, 3.2470396474540086, 5.3183446636577685, 8.922705315213102, 5.662543106678552, 3.6301176432468463, 7.573668643968294, 6.7643530270310865, 7.366467438749052, 5.973878839583264, 2.7920657936076374, 9.726311007973058, 9.305563544011552, 5.1152851455903035, 2.1895279290709158, 8.63241852936966, 5.900343891972154, 4.117860425928797, 9.231899238445925, 6.575895449764023, 7.727958111656298, 0.9779418115852567, 6.891005411589185, 6.780374513899547, 2.4008393884723658, 5.93289370623456, 7.807189083697573, 5.433397776225846, 7.771606754530909, 9.410512187704484, 3.6362278562886496, 5.172072102958146, 0.9373274767938711, 8.93739499483059, 8.00880604786162, 0.6653405758163877, 4.233715608477349, 9.049477952018508, 8.733050602348944, 3.151631596893487, 7.5148411140518085, 4.9479885201363585, 8.362696674387015, 5.816864940540857, 8.429712685316895, 8.382583933458253, 6.398758473659844, 8.552620034929282, 8.962832133640534, 7.779584100042104, 5.018599164699732, 8.276363062139398, 4.367813364183327, 4.581682146443589, 8.084377516740236, 8.347587939776357, 8.895101986114085, 6.940868837765775, 8.520120458982804, 9.728579019187482, 5.9181387974495605, 6.343496154754778, 7.327314090298437, 2.7532498774443157, 9.285670962095717, 8.426726955951274, 9.856235924082146, 6.674888331351351, 8.623519483120978, 8.669030638798393, 6.098916390081753, 9.032227132493528, 4.7509661701323145, 6.124897871386522, 7.484614725400594, 9.719203298338813, 7.774620728065775, 9.883044961623213, 7.689697264690346, 2.7235540018511664, 4.052261784636514, 7.795632483129165, 6.460776632446828, 8.614517855715825, 3.9209673124699282, 3.3016860352065356, 7.931232119665104, 8.846107353001255, 9.71238397460388, 7.258140783788651, 4.612209467231397, 6.099715162703575, 4.086243784149323, 8.635082787710644, 6.275754133782884, 7.800861084272216, 8.725940216507764, 2.0296117276248324, 7.59535814309713, 8.53815804608565, 5.823424442463505, 1.2670870990483518, 6.949885586864703, 8.08870512856451, 9.262694719631726, 7.916320939510833, 5.194278640903977, 9.433485726182651, 2.9505557517540124, 9.58433641566045, 7.076657374559163, 2.518521621615888, 5.227068440445823, 9.436390038738896, 4.578057255166259, 8.91860383620908, 8.457917115272092, 7.300935305802594, 9.506547695064285, 8.359759945141318, 7.125164502326937, 9.899346760277556, 9.11032073876722, 8.986844603889695, 9.391134056036666, 5.542662625510292, 9.588368574131954, 8.091544362992115, 7.842485965024091, 8.029830124387395, 8.569018659109554, 7.540010169699567, 3.6998578527719097, 8.5132022368918, 7.3535659738507055, 5.671382339792083, 4.278477684279267, 9.28805697557747, 3.119627315301229, 1.987544141118024, 9.08528043502413, 5.4304106300597335, 8.380107557846218, 2.953862709625886, 7.197149222463398, 5.2285035152402095, 6.359348347038914, 7.351965081220291, 3.9562679105789478, 6.883217272784296, 9.44734414189008, 5.733451674445748, 3.3161368955137824, 2.9378423632642714, 9.424958742578644, 7.375538394939827, 3.248909962835025, 2.24561658646369, 7.125709441956758, 7.151180787057242, 5.613261285503816, 8.006316439835988, 8.450294555720273, 5.748875229879421, 9.186751691938449, 8.149437633458973, 7.984109358576379, 9.144869606661826, 9.451805170683304, 6.81345002789965, 6.4350131799027555, 9.05552142789101, 9.381400671170091, 6.456106966351904, 6.027645146648998, 1.0570635576341803, 8.281448014579716, 9.672225343925591, 4.194667777804714, 8.402444978945386, 9.41111260014265, 9.53521344205061, 4.825222751508305, 5.931912213372842, 2.479067990315839, 7.33793360536427, 5.897810252158351, 9.910914428888969, 5.6619388262539205, 9.736178139078019, 8.187498735181087, 7.613971623326101, 8.592532878014534, 9.10497275286722, 5.622844163205634, 4.4718167525229635, 2.1153463458875086, 6.581113594482205, 5.82443234356269, 4.220605590235519, 0.939948271159855, 4.447142046019317, 3.444849033525804, 5.070868721351004, 6.083010213246975, 5.160522757408143, 5.485666345427221, 6.8134027301421565, 8.619162603687005, 7.232090630897924, 8.010859696316375, 5.694842394745647, 2.6061614154782484, 7.035058903027672, 2.6241303713183415, 9.500710204761823, 7.078978322558033, 7.277788570331722, 7.154863654200815, 8.39401642521001, 0.061450969677384615, 6.448449459383853, 0.10207132013777986, 3.7914762101349, 3.9693800129663104, 7.879616790293234, 8.515220135656389, 9.503466230754412, 5.08393353841455, 2.7278169013528455, 6.272320534523982, 7.884709738206541, 8.568412018474156, 4.228332933446859, 1.4495945547621125, 3.611654330757943, 5.548032146710861, 2.6892957878589066, 3.50735899215159, 8.302526200294352, 8.67302819721073, 6.108029998185897, 9.81772180553876, 7.2328017484432285, 4.344560788958459, 0.3544553234908232, 4.241159068730244, 9.163193131650553, 6.042609125799188, 0.8781567082447761, 6.696749606587996, 7.709588973452368, 6.409791085763291, 8.647135120792655, 9.145311605873363, 9.758813582860801, 6.012461699322448, 9.054468022882542, 7.58918300991195, 3.095630663337965, 8.251996239248864, 6.683484645006768, 9.936804762096212, 9.21690050751702, 6.140667496840093, 9.001580843836667, 5.194108752334598, 8.958293487573895, 8.146467391112338, 7.24339815771223, 6.59428813902911, 3.289870670316618, 0.2215482090065357, 8.070516436453637, 8.235768879045384, 4.612899735535777, 4.87700747154451, 9.901157659276054, 8.090626861600402, 9.350158581279608, 2.297224876506533, 6.130647105833317]\n"
     ]
    }
   ],
   "source": [
    "# A test function\n",
    "def test_func(x,a=1,b=1):\n",
    "    return abs(a*x+b)\n",
    "\n",
    "print(len(generate_function(test_func, 0, 10)))\n",
    "print(generate_function(test_func, 0,10))"
   ]
  },
  {
   "cell_type": "markdown",
   "metadata": {},
   "source": [
    "*Exercise 8:* Use your function to generate 1000 numbers that are normal distributed, using the `gaussian` function below. Confirm the mean and variance of the data is close to the mean and variance you specify when building the Gaussian. Histogram the data. "
   ]
  },
  {
   "cell_type": "code",
   "execution_count": 47,
   "metadata": {},
   "outputs": [
    {
     "name": "stdout",
     "output_type": "stream",
     "text": [
      "The mean is  10.042385771284378\n",
      "The standard deviation is  2.9024841400085966\n"
     ]
    }
   ],
   "source": [
    "import math\n",
    "\n",
    "def gaussian(mean, sigma):\n",
    "    def f(x):\n",
    "        return math.exp(-((x - mean) ** 2) / (2 * sigma ** 2)) / (sigma * math.sqrt(2 * math.pi))\n",
    "    return f\n",
    "\n",
    "# Example Instantiation\n",
    "g1=gaussian(0,1)\n",
    "g2=gaussian(10,3)\n",
    "\n",
    "gauss_list = generate_function(g2, 0, 20)\n",
    "mean = sum(gauss_list) / len(gauss_list) \n",
    "variance = sum((x - mean) ** 2 for x in gauss_list) / len(gauss_list)\n",
    "stdeviation = math.sqrt(variance)\n",
    "print(\"The mean is \",mean)\n",
    "print(\"The standard deviation is \", stdeviation)\n",
    "\n"
   ]
  },
  {
   "cell_type": "markdown",
   "metadata": {},
   "source": [
    "*Exercise 9:* Combine your `generate_function`, `where`, and `in_range` functions above to create an integrate function. Use your integrate function to show that approximately 68% of Normal distribution is within one variance."
   ]
  },
  {
   "cell_type": "code",
   "execution_count": 57,
   "metadata": {},
   "outputs": [],
   "source": [
    "def integrate(func, x_min, x_max, n_points=1000):\n",
    "    xs = generate_function(func, x_min, x_max, N=n_points)\n",
    "    \n",
    "    valid_range = in_range(x_min, x_max)\n",
    "    \n",
    "    valid_indices = where(xs, valid_range)\n",
    "    \n",
    "    func_values = [func(xs[i]) for i in valid_indices]\n",
    "    \n",
    "    if len(func_values) == 0: \n",
    "        return 0\n",
    "    average_value = sum(func_values) / len(func_values)\n",
    "    integral = average_value * (x_max - x_min) \n",
    "    \n",
    "    return integral"
   ]
  },
  {
   "cell_type": "code",
   "execution_count": 58,
   "metadata": {},
   "outputs": [
    {
     "name": "stdout",
     "output_type": "stream",
     "text": [
      "The integral over [-1, 1] is approximately: 0.6959504675074438\n"
     ]
    }
   ],
   "source": [
    "g3 = gaussian(0,1)\n",
    "\n",
    "result = integrate(g3, -1, 1, n_points = 10000)\n",
    "print(f\"The integral over [-1, 1] is approximately: {result}\")"
   ]
  },
  {
   "cell_type": "code",
   "execution_count": 59,
   "metadata": {},
   "outputs": [],
   "source": [
    "#The integral approximately is equalt to 0.68. \n",
    "\n"
   ]
  },
  {
   "cell_type": "code",
   "execution_count": null,
   "metadata": {},
   "outputs": [],
   "source": []
  }
 ],
 "metadata": {
  "kernelspec": {
   "display_name": "Python 3 (ipykernel)",
   "language": "python",
   "name": "python3"
  },
  "language_info": {
   "codemirror_mode": {
    "name": "ipython",
    "version": 3
   },
   "file_extension": ".py",
   "mimetype": "text/x-python",
   "name": "python",
   "nbconvert_exporter": "python",
   "pygments_lexer": "ipython3",
   "version": "3.11.9"
  }
 },
 "nbformat": 4,
 "nbformat_minor": 4
}
